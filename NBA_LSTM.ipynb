{
 "cells": [
  {
   "attachments": {},
   "cell_type": "markdown",
   "metadata": {},
   "source": [
    "# Importing Libraries"
   ]
  },
  {
   "cell_type": "code",
   "execution_count": 1,
   "metadata": {},
   "outputs": [],
   "source": [
    "import pandas as pd\n",
    "import numpy as np\n",
    "import matplotlib.pyplot as plt\n",
    "import seaborn as sns\n",
    "import torch\n",
    "import torch.nn as nn\n",
    "from torch.utils.data import DataLoader\n",
    "from sklearn.model_selection import train_test_split"
   ]
  },
  {
   "attachments": {},
   "cell_type": "markdown",
   "metadata": {},
   "source": [
    "# Wrangling the Data"
   ]
  },
  {
   "cell_type": "code",
   "execution_count": 2,
   "metadata": {},
   "outputs": [],
   "source": [
    "df = pd.read_excel(\"Season_Stats.xlsx\")"
   ]
  },
  {
   "cell_type": "code",
   "execution_count": 3,
   "metadata": {},
   "outputs": [],
   "source": [
    "desired_columns = ['Season', '3PA']"
   ]
  },
  {
   "cell_type": "code",
   "execution_count": 4,
   "metadata": {},
   "outputs": [],
   "source": [
    "df = df[desired_columns]"
   ]
  },
  {
   "cell_type": "code",
   "execution_count": 5,
   "metadata": {},
   "outputs": [],
   "source": [
    "df = df.dropna()"
   ]
  },
  {
   "cell_type": "code",
   "execution_count": 6,
   "metadata": {},
   "outputs": [],
   "source": [
    "df.set_index('Season', inplace=True)"
   ]
  },
  {
   "cell_type": "code",
   "execution_count": 7,
   "metadata": {},
   "outputs": [],
   "source": [
    "df.sort_index(ascending=True, inplace=True)"
   ]
  },
  {
   "cell_type": "code",
   "execution_count": 8,
   "metadata": {},
   "outputs": [],
   "source": [
    "cleaned_data = torch.from_numpy(df.to_numpy())"
   ]
  },
  {
   "cell_type": "code",
   "execution_count": 9,
   "metadata": {},
   "outputs": [],
   "source": [
    "cleaned_data = cleaned_data.type(torch.float32)"
   ]
  },
  {
   "cell_type": "code",
   "execution_count": 10,
   "metadata": {},
   "outputs": [
    {
     "data": {
      "text/plain": [
       "torch.float32"
      ]
     },
     "execution_count": 10,
     "metadata": {},
     "output_type": "execute_result"
    }
   ],
   "source": [
    "cleaned_data.dtype"
   ]
  },
  {
   "cell_type": "code",
   "execution_count": 11,
   "metadata": {},
   "outputs": [
    {
     "data": {
      "text/plain": [
       "tensor([[ 2.8000],\n",
       "        [ 2.0000],\n",
       "        [ 2.3000],\n",
       "        [ 2.3000],\n",
       "        [ 2.4000],\n",
       "        [ 3.1000],\n",
       "        [ 3.3000],\n",
       "        [ 4.7000],\n",
       "        [ 5.0000],\n",
       "        [ 6.6000],\n",
       "        [ 6.6000],\n",
       "        [ 7.1000],\n",
       "        [ 7.6000],\n",
       "        [ 9.0000],\n",
       "        [ 9.9000],\n",
       "        [15.3000],\n",
       "        [16.0000],\n",
       "        [16.8000],\n",
       "        [12.7000],\n",
       "        [13.2000],\n",
       "        [13.7000],\n",
       "        [13.7000],\n",
       "        [14.7000],\n",
       "        [14.7000],\n",
       "        [14.9000],\n",
       "        [15.8000],\n",
       "        [16.0000],\n",
       "        [16.9000],\n",
       "        [18.1000],\n",
       "        [18.1000],\n",
       "        [18.1000],\n",
       "        [18.0000],\n",
       "        [18.4000],\n",
       "        [20.0000],\n",
       "        [21.5000],\n",
       "        [22.4000],\n",
       "        [24.1000],\n",
       "        [27.0000],\n",
       "        [29.0000],\n",
       "        [32.0000],\n",
       "        [34.1000],\n",
       "        [34.6000],\n",
       "        [35.2000],\n",
       "        [34.2000]])"
      ]
     },
     "execution_count": 11,
     "metadata": {},
     "output_type": "execute_result"
    }
   ],
   "source": [
    "cleaned_data"
   ]
  },
  {
   "attachments": {},
   "cell_type": "markdown",
   "metadata": {},
   "source": [
    "# Splitting the data"
   ]
  },
  {
   "cell_type": "code",
   "execution_count": 12,
   "metadata": {},
   "outputs": [],
   "source": [
    "train_dataset, validation_dataset = train_test_split(cleaned_data, test_size=0.3, shuffle=False)"
   ]
  },
  {
   "attachments": {},
   "cell_type": "markdown",
   "metadata": {},
   "source": [
    "# Creating the Model"
   ]
  },
  {
   "cell_type": "code",
   "execution_count": 13,
   "metadata": {},
   "outputs": [],
   "source": [
    "class LSTM_MODEL(nn.Module):\n",
    "    def __init__(self, input_size, hidden_size, num_layers):\n",
    "        super().__init__()\n",
    "\n",
    "        self.input_size = input_size\n",
    "        self.hidden_size = hidden_size\n",
    "        self.num_layers = num_layers\n",
    "\n",
    "        self.lstm = nn.LSTM(self.input_size, self.hidden_size, self.num_layers)\n",
    "        self.linear1 = nn.Linear(self.hidden_size, 64)\n",
    "        self.linear2 = nn.Linear(64, 1)\n",
    "\n",
    "    def forward(self, X):\n",
    "        X, hidden = self.lstm(X)\n",
    "        X = self.linear1(X)\n",
    "        X = self.linear2(X)\n",
    "\n",
    "        return X, hidden"
   ]
  },
  {
   "cell_type": "code",
   "execution_count": 14,
   "metadata": {},
   "outputs": [],
   "source": [
    "input_size = 1\n",
    "num_hidden = 128\n",
    "num_layers = 1\n",
    "batchsize = 1\n",
    "seqlength = 4\n",
    "N = len(train_dataset)\n",
    "\n",
    "model = LSTM_MODEL(input_size,num_hidden,num_layers)"
   ]
  },
  {
   "cell_type": "code",
   "execution_count": 15,
   "metadata": {},
   "outputs": [],
   "source": [
    "criterion = nn.MSELoss()\n",
    "optimizer = torch.optim.Adam(model.parameters(), lr=0.001)"
   ]
  },
  {
   "attachments": {},
   "cell_type": "markdown",
   "metadata": {},
   "source": [
    "# Training the Model"
   ]
  },
  {
   "cell_type": "code",
   "execution_count": 16,
   "metadata": {},
   "outputs": [
    {
     "name": "stdout",
     "output_type": "stream",
     "text": [
      "EPOCH: 0 Training Loss: 73.4717025756836 Validation Loss: 340.9306640625\n",
      "EPOCH: 10 Training Loss: 3.6551434993743896 Validation Loss: 187.7351837158203\n",
      "EPOCH: 20 Training Loss: 3.440446138381958 Validation Loss: 174.40623474121094\n",
      "EPOCH: 30 Training Loss: 3.2034718990325928 Validation Loss: 162.81210327148438\n",
      "EPOCH: 40 Training Loss: 2.96647310256958 Validation Loss: 151.3909454345703\n",
      "EPOCH: 50 Training Loss: 2.731501579284668 Validation Loss: 139.9297332763672\n",
      "EPOCH: 60 Training Loss: 2.539181709289551 Validation Loss: 130.49603271484375\n",
      "EPOCH: 70 Training Loss: 2.391540765762329 Validation Loss: 123.82173919677734\n",
      "EPOCH: 80 Training Loss: 2.285815954208374 Validation Loss: 119.53265380859375\n",
      "EPOCH: 90 Training Loss: 2.2055916786193848 Validation Loss: 116.71895599365234\n",
      "EPOCH: 100 Training Loss: 2.139282464981079 Validation Loss: 114.89588928222656\n",
      "EPOCH: 110 Training Loss: 2.0926711559295654 Validation Loss: 116.7479248046875\n",
      "EPOCH: 120 Training Loss: 1.7891433238983154 Validation Loss: 116.3556900024414\n",
      "EPOCH: 130 Training Loss: 2.255077362060547 Validation Loss: 122.11167907714844\n",
      "EPOCH: 140 Training Loss: 1.2067910432815552 Validation Loss: 100.39678955078125\n",
      "EPOCH: 150 Training Loss: 1.0999213457107544 Validation Loss: 116.6007080078125\n",
      "EPOCH: 160 Training Loss: 0.7150025963783264 Validation Loss: 94.34477233886719\n",
      "EPOCH: 170 Training Loss: 0.9562658667564392 Validation Loss: 76.12860107421875\n",
      "EPOCH: 180 Training Loss: 0.7265390157699585 Validation Loss: 89.85478210449219\n",
      "EPOCH: 190 Training Loss: 0.69830322265625 Validation Loss: 99.4301528930664\n"
     ]
    }
   ],
   "source": [
    "epochs = 200\n",
    "training_losses = np.zeros(epochs)\n",
    "validation_losses = np.zeros(epochs)\n",
    "\n",
    "for i in range(epochs):\n",
    "\n",
    "    segtrainlosses = []\n",
    "    segvalidationloss = []\n",
    "    H = torch.zeros(num_layers,batchsize,num_hidden)\n",
    "    C = torch.zeros(num_layers,batchsize,num_hidden)\n",
    "    hidden_inputs = (H,C)\n",
    "\n",
    "    for timei in range(N-seqlength):\n",
    "\n",
    "        #grabbing a snippet of data\n",
    "        X_train = train_dataset[timei:timei+seqlength].view(seqlength,batchsize,-1)\n",
    "        y_train = train_dataset[timei+seqlength].view(1,1)\n",
    "\n",
    "        #forward the data\n",
    "        predictions, hidden_inputs = model.forward(X_train)\n",
    "\n",
    "        #loss\n",
    "        predicted_value = predictions[-1]\n",
    "        loss = criterion(predicted_value,y_train)\n",
    "\n",
    "        #backpropagation and gradient descent\n",
    "        optimizer.zero_grad()\n",
    "        loss.backward()\n",
    "        optimizer.step()\n",
    "\n",
    "        #loss from the segment\n",
    "        segtrainlosses.append(loss)\n",
    "\n",
    "    #validation dataset\n",
    "    model.eval()\n",
    "    with torch.no_grad():\n",
    "        for timei in range(len(validation_dataset) - seqlength):\n",
    "                X_validation = validation_dataset[timei:timei+seqlength].view(seqlength,batchsize,-1)\n",
    "                y_validation = validation_dataset[timei+seqlength].view(1,1)\n",
    "                predictions, hidden_inputs = model.forward(X_validation)\n",
    "                val_predicted_value = predictions[-1]\n",
    "                validation_loss = criterion(val_predicted_value,y_validation)\n",
    "                segvalidationloss.append(validation_loss)\n",
    "\n",
    "\n",
    "    training_losses[i] = np.mean([loss.detach().numpy() for loss in segtrainlosses])\n",
    "    validation_losses[i] = np.mean([loss.detach().numpy() for loss in segvalidationloss])\n",
    "\n",
    "    if i%10 == 0:\n",
    "         print(f'EPOCH: {i} Training Loss: {training_losses[i].item()} Validation Loss: {validation_losses[i].item()}')\n"
   ]
  },
  {
   "cell_type": "code",
   "execution_count": 17,
   "metadata": {},
   "outputs": [
    {
     "data": {
      "text/plain": [
       "[<matplotlib.lines.Line2D at 0x1c38235fad0>]"
      ]
     },
     "execution_count": 17,
     "metadata": {},
     "output_type": "execute_result"
    },
    {
     "data": {
      "image/png": "[encoded data removed]",
      "text/plain": [
       "<Figure size 640x480 with 1 Axes>"
      ]
     },
     "metadata": {},
     "output_type": "display_data"
    }
   ],
   "source": [
    "plt.plot(training_losses)\n",
    "plt.plot(validation_losses)"
   ]
  },
  {
   "attachments": {},
   "cell_type": "markdown",
   "metadata": {},
   "source": [
    "# Next Steps: Investigate high variance issue!"
   ]
  }
 ],
 "metadata": {
  "kernelspec": {
   "display_name": "Python 3",
   "language": "python",
   "name": "python3"
  },
  "language_info": {
   "codemirror_mode": {
    "name": "ipython",
    "version": 3
   },
   "file_extension": ".py",
   "mimetype": "text/x-python",
   "name": "python",
   "nbconvert_exporter": "python",
   "pygments_lexer": "ipython3",
   "version": "3.11.1"
  },
  "orig_nbformat": 4
 },
 "nbformat": 4,
 "nbformat_minor": 2
}
